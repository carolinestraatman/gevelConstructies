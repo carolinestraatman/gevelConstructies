{
 "cells": [
  {
   "cell_type": "code",
   "execution_count": 1,
   "metadata": {
    "collapsed": true
   },
   "outputs": [],
   "source": [
    "%matplotlib inline\n",
    "import pandas as pd\n",
    "import numpy as np\n",
    "import os"
   ]
  },
  {
   "cell_type": "markdown",
   "metadata": {},
   "source": [
    "# Import Data"
   ]
  },
  {
   "cell_type": "code",
   "execution_count": 2,
   "metadata": {
    "collapsed": false
   },
   "outputs": [
    {
     "name": "stdout",
     "output_type": "stream",
     "text": [
      "1388842\n"
     ]
    },
    {
     "data": {
      "text/html": [
       "<div>\n",
       "<table border=\"1\" class=\"dataframe\">\n",
       "  <thead>\n",
       "    <tr style=\"text-align: right;\">\n",
       "      <th></th>\n",
       "      <th>BRON_ID</th>\n",
       "      <th>CODE_GEVELCONSTRUCTIE</th>\n",
       "      <th>HUISNUMMER</th>\n",
       "      <th>MATERIAAL_AANSLUITL_BINNEN</th>\n",
       "      <th>MATERIAAL_AANSLUITL_BUITEN</th>\n",
       "      <th>PLAATS</th>\n",
       "      <th>POSTCODE</th>\n",
       "      <th>STRAATNAAM</th>\n",
       "      <th>DATUM_AANLEG_GEVELCONSTRUCTIE</th>\n",
       "      <th>OBJECT_ID</th>\n",
       "      <th>ID</th>\n",
       "      <th>BOUWJAAR</th>\n",
       "      <th>x</th>\n",
       "      <th>y</th>\n",
       "    </tr>\n",
       "  </thead>\n",
       "  <tbody>\n",
       "    <tr>\n",
       "      <th>0</th>\n",
       "      <td>168364725.0</td>\n",
       "      <td>GC20b</td>\n",
       "      <td>32.0</td>\n",
       "      <td>Onbekend</td>\n",
       "      <td>PVC/A</td>\n",
       "      <td>SCHIEDAM</td>\n",
       "      <td>3123AB</td>\n",
       "      <td>DE LA MARPLEIN</td>\n",
       "      <td>1-1-1974 0:00:00</td>\n",
       "      <td>5302214.0</td>\n",
       "      <td>606100000001887</td>\n",
       "      <td>1974</td>\n",
       "      <td>84750.203125</td>\n",
       "      <td>439306.0</td>\n",
       "    </tr>\n",
       "    <tr>\n",
       "      <th>1</th>\n",
       "      <td>185588973.0</td>\n",
       "      <td>GC21a</td>\n",
       "      <td>33.0</td>\n",
       "      <td>PE 80</td>\n",
       "      <td>PE 80</td>\n",
       "      <td>LEIDSCHENDAM</td>\n",
       "      <td>2264ZD</td>\n",
       "      <td>NEHERPARK</td>\n",
       "      <td>8-6-2009 0:00:00</td>\n",
       "      <td>14055395.0</td>\n",
       "      <td>1916100000115141</td>\n",
       "      <td>1955</td>\n",
       "      <td>86556.601562</td>\n",
       "      <td>455738.0</td>\n",
       "    </tr>\n",
       "    <tr>\n",
       "      <th>2</th>\n",
       "      <td>221940414.0</td>\n",
       "      <td>GC18</td>\n",
       "      <td>515.0</td>\n",
       "      <td>Koper</td>\n",
       "      <td>PE 80</td>\n",
       "      <td>'S-GRAVENHAGE</td>\n",
       "      <td>2562KN</td>\n",
       "      <td>NEWTONSTRAAT</td>\n",
       "      <td>5-2-2015 0:00:00</td>\n",
       "      <td>9449950.0</td>\n",
       "      <td>518100000280459</td>\n",
       "      <td>1916</td>\n",
       "      <td>79044.000000</td>\n",
       "      <td>454475.0</td>\n",
       "    </tr>\n",
       "    <tr>\n",
       "      <th>3</th>\n",
       "      <td>194957423.0</td>\n",
       "      <td>GC18</td>\n",
       "      <td>254.0</td>\n",
       "      <td>Peko</td>\n",
       "      <td>PE 80</td>\n",
       "      <td>'S-GRAVENHAGE</td>\n",
       "      <td>2593NR</td>\n",
       "      <td>CORNELIS VAN DER LIJNSTR</td>\n",
       "      <td>1-1-1974 0:00:00</td>\n",
       "      <td>2709525.0</td>\n",
       "      <td>518100000345661</td>\n",
       "      <td>1933</td>\n",
       "      <td>83622.796875</td>\n",
       "      <td>456002.0</td>\n",
       "    </tr>\n",
       "    <tr>\n",
       "      <th>4</th>\n",
       "      <td>220589486.0</td>\n",
       "      <td>GC27a</td>\n",
       "      <td>133.0</td>\n",
       "      <td>PE 80</td>\n",
       "      <td>PE 80</td>\n",
       "      <td>'S-GRAVENHAGE</td>\n",
       "      <td>2518VM</td>\n",
       "      <td>TASMANSTRAAT</td>\n",
       "      <td>22-9-2014 0:00:00</td>\n",
       "      <td>12293097.0</td>\n",
       "      <td>518100001647533</td>\n",
       "      <td>2013</td>\n",
       "      <td>79941.000000</td>\n",
       "      <td>455438.0</td>\n",
       "    </tr>\n",
       "  </tbody>\n",
       "</table>\n",
       "</div>"
      ],
      "text/plain": [
       "       BRON_ID CODE_GEVELCONSTRUCTIE  HUISNUMMER MATERIAAL_AANSLUITL_BINNEN  \\\n",
       "0  168364725.0                 GC20b        32.0                   Onbekend   \n",
       "1  185588973.0                 GC21a        33.0                      PE 80   \n",
       "2  221940414.0                  GC18       515.0                      Koper   \n",
       "3  194957423.0                  GC18       254.0                       Peko   \n",
       "4  220589486.0                 GC27a       133.0                      PE 80   \n",
       "\n",
       "  MATERIAAL_AANSLUITL_BUITEN         PLAATS POSTCODE  \\\n",
       "0                      PVC/A       SCHIEDAM   3123AB   \n",
       "1                      PE 80   LEIDSCHENDAM   2264ZD   \n",
       "2                      PE 80  'S-GRAVENHAGE   2562KN   \n",
       "3                      PE 80  'S-GRAVENHAGE   2593NR   \n",
       "4                      PE 80  'S-GRAVENHAGE   2518VM   \n",
       "\n",
       "                 STRAATNAAM DATUM_AANLEG_GEVELCONSTRUCTIE   OBJECT_ID  \\\n",
       "0            DE LA MARPLEIN              1-1-1974 0:00:00   5302214.0   \n",
       "1                 NEHERPARK              8-6-2009 0:00:00  14055395.0   \n",
       "2              NEWTONSTRAAT              5-2-2015 0:00:00   9449950.0   \n",
       "3  CORNELIS VAN DER LIJNSTR              1-1-1974 0:00:00   2709525.0   \n",
       "4              TASMANSTRAAT             22-9-2014 0:00:00  12293097.0   \n",
       "\n",
       "                 ID  BOUWJAAR             x         y  \n",
       "0   606100000001887      1974  84750.203125  439306.0  \n",
       "1  1916100000115141      1955  86556.601562  455738.0  \n",
       "2   518100000280459      1916  79044.000000  454475.0  \n",
       "3   518100000345661      1933  83622.796875  456002.0  \n",
       "4   518100001647533      2013  79941.000000  455438.0  "
      ]
     },
     "execution_count": 2,
     "metadata": {},
     "output_type": "execute_result"
    }
   ],
   "source": [
    "datadir = \"~/Data/Stedin/GCFiles/data\"\n",
    "data = pd.read_csv(os.path.join(datadir, \"bag_pga_intersect_v200516.txt\"), ';')\n",
    "print len(data)\n",
    "data.head(5)"
   ]
  },
  {
   "cell_type": "code",
   "execution_count": 3,
   "metadata": {
    "collapsed": false
   },
   "outputs": [
    {
     "data": {
      "text/html": [
       "<div>\n",
       "<table border=\"1\" class=\"dataframe\">\n",
       "  <thead>\n",
       "    <tr style=\"text-align: right;\">\n",
       "      <th></th>\n",
       "      <th>CODE_GEVELCONSTRUCTIE</th>\n",
       "      <th>MATERIAAL_AANSLUITL_BINNEN</th>\n",
       "      <th>MATERIAAL_AANSLUITL_BUITEN</th>\n",
       "      <th>PLAATS</th>\n",
       "      <th>POSTCODE</th>\n",
       "      <th>DATUM_AANLEG_GEVELCONSTRUCTIE</th>\n",
       "      <th>BOUWJAAR</th>\n",
       "      <th>x</th>\n",
       "      <th>y</th>\n",
       "    </tr>\n",
       "  </thead>\n",
       "  <tbody>\n",
       "    <tr>\n",
       "      <th>0</th>\n",
       "      <td>GC20b</td>\n",
       "      <td>Onbekend</td>\n",
       "      <td>PVC/A</td>\n",
       "      <td>SCHIEDAM</td>\n",
       "      <td>3123AB</td>\n",
       "      <td>1-1-1974 0:00:00</td>\n",
       "      <td>1974</td>\n",
       "      <td>84750.203125</td>\n",
       "      <td>439306.0</td>\n",
       "    </tr>\n",
       "  </tbody>\n",
       "</table>\n",
       "</div>"
      ],
      "text/plain": [
       "  CODE_GEVELCONSTRUCTIE MATERIAAL_AANSLUITL_BINNEN MATERIAAL_AANSLUITL_BUITEN  \\\n",
       "0                 GC20b                   Onbekend                      PVC/A   \n",
       "\n",
       "     PLAATS POSTCODE DATUM_AANLEG_GEVELCONSTRUCTIE  BOUWJAAR             x  \\\n",
       "0  SCHIEDAM   3123AB              1-1-1974 0:00:00      1974  84750.203125   \n",
       "\n",
       "          y  \n",
       "0  439306.0  "
      ]
     },
     "execution_count": 3,
     "metadata": {},
     "output_type": "execute_result"
    }
   ],
   "source": [
    "data = data[['CODE_GEVELCONSTRUCTIE','MATERIAAL_AANSLUITL_BINNEN','MATERIAAL_AANSLUITL_BUITEN','PLAATS','POSTCODE','DATUM_AANLEG_GEVELCONSTRUCTIE','BOUWJAAR','x','y']]\n",
    "data.head(1)"
   ]
  },
  {
   "cell_type": "markdown",
   "metadata": {},
   "source": [
    "# Pre processing"
   ]
  },
  {
   "cell_type": "code",
   "execution_count": 4,
   "metadata": {
    "collapsed": false
   },
   "outputs": [
    {
     "name": "stdout",
     "output_type": "stream",
     "text": [
      "1388842\n"
     ]
    }
   ],
   "source": [
    "original_size = len(data)\n",
    "print(original_size)"
   ]
  },
  {
   "cell_type": "markdown",
   "metadata": {},
   "source": [
    "Vervang je target class, in dit geval CODE_GEVELCONSTRUCTIE met de naam 'class'"
   ]
  },
  {
   "cell_type": "code",
   "execution_count": 5,
   "metadata": {
    "collapsed": true
   },
   "outputs": [],
   "source": [
    "data.rename(columns={'CODE_GEVELCONSTRUCTIE': 'class'}, inplace=True)"
   ]
  },
  {
   "cell_type": "code",
   "execution_count": 6,
   "metadata": {
    "collapsed": false
   },
   "outputs": [
    {
     "data": {
      "text/plain": [
       "class                             object\n",
       "MATERIAAL_AANSLUITL_BINNEN        object\n",
       "MATERIAAL_AANSLUITL_BUITEN        object\n",
       "PLAATS                            object\n",
       "POSTCODE                          object\n",
       "DATUM_AANLEG_GEVELCONSTRUCTIE     object\n",
       "BOUWJAAR                           int64\n",
       "x                                float64\n",
       "y                                float64\n",
       "dtype: object"
      ]
     },
     "execution_count": 6,
     "metadata": {},
     "output_type": "execute_result"
    }
   ],
   "source": [
    "data.dtypes"
   ]
  },
  {
   "cell_type": "code",
   "execution_count": 7,
   "metadata": {
    "collapsed": false
   },
   "outputs": [
    {
     "name": "stdout",
     "output_type": "stream",
     "text": [
      "Number of levels in category 'class': \b 73.00 \n",
      "Number of levels in category 'MATERIAAL_AANSLUITL_BINNEN': \b 35.00 \n",
      "Number of levels in category 'MATERIAAL_AANSLUITL_BUITEN': \b 44.00 \n",
      "Number of levels in category 'PLAATS': \b 412.00 \n"
     ]
    }
   ],
   "source": [
    "for cat in ['class', 'MATERIAAL_AANSLUITL_BINNEN', 'MATERIAAL_AANSLUITL_BUITEN', 'PLAATS']:\n",
    "    print(\"Number of levels in category '{0}': \\b {1:2.2f} \".format(cat, data[cat].unique().size))"
   ]
  },
  {
   "cell_type": "markdown",
   "metadata": {},
   "source": [
    "## GC code"
   ]
  },
  {
   "cell_type": "code",
   "execution_count": 8,
   "metadata": {
    "collapsed": false
   },
   "outputs": [
    {
     "name": "stdout",
     "output_type": "stream",
     "text": [
      "['gc20b' 'gc21a' 'gc18' 'gc27a' 'gc27e' 'onbekend' 'cement' 'gc8' 'staal'\n",
      " 'peko' 'gc27c' 'gc16' 'gc19' 'gc21c' 'trekvast, flexibel' 'gc21e' 'gc23'\n",
      " 'gc20' 'n.v.t.' 'trekvast, niet flex.' 'niet trekvast, niet flex.' 'pe80'\n",
      " 'niet flex.' 'trekvast' 'gc12' 'pe' 'gc15' 'gc5' 'gc4' 'gc21d' 'gc17a'\n",
      " 'flexibel' 'pvc' 'gc24a' 'koper' 'flex. element + doorvoer' 'anders'\n",
      " 'csd-plug' 'gc20a' 'gc17b' 'niet trekvast, flexibel' 'gc14' 'gc20c' 'gc7'\n",
      " 'gc13' 'gc27b' 'n.v.t. - has type 1 of as' 'mdpe' 'klant' 'gc25b' 'gc26'\n",
      " 'gc3' 'gc11' 'gc22' 'gc24b' 'cu' 'gc21b' 'n.v.t. - buitenkast' 'pvc/cpe'\n",
      " 'gc1' 'niet trekvast' 'gc20d' 'gc9' 'pe100' 'gc2' 'gc17c' 'gc10' 'gc6'\n",
      " 'pur-schuim' 'gc25a']\n",
      "70\n"
     ]
    }
   ],
   "source": [
    "data['class'] = data['class'].str.lower()\n",
    "print(data['class'].unique())\n",
    "print(len(data['class'].unique()))"
   ]
  },
  {
   "cell_type": "markdown",
   "metadata": {},
   "source": [
    "### Filter onbruikbare door onbekende data"
   ]
  },
  {
   "cell_type": "code",
   "execution_count": 9,
   "metadata": {
    "collapsed": false
   },
   "outputs": [
    {
     "name": "stdout",
     "output_type": "stream",
     "text": [
      "928213\n"
     ]
    }
   ],
   "source": [
    "data = data[data['class']!='onbekend']\n",
    "data.reindex()\n",
    "print len(data)"
   ]
  },
  {
   "cell_type": "markdown",
   "metadata": {},
   "source": [
    "### Unificeer code\n",
    "Staal = GC16\n",
    "Koper = GC14"
   ]
  },
  {
   "cell_type": "code",
   "execution_count": 10,
   "metadata": {
    "collapsed": false
   },
   "outputs": [
    {
     "name": "stdout",
     "output_type": "stream",
     "text": [
      "67\n"
     ]
    }
   ],
   "source": [
    "data['class'] = data['class'].replace('staal','gc16').replace('koper','gc14')\n",
    "\n",
    "print(len(data['class'].unique()))"
   ]
  },
  {
   "cell_type": "code",
   "execution_count": 11,
   "metadata": {
    "collapsed": false,
    "scrolled": true
   },
   "outputs": [
    {
     "name": "stdout",
     "output_type": "stream",
     "text": [
      "['gc20b' 'gc21a' 'gc18' 'gc27a' 'gc27e' 'cement' 'gc8' 'gc16' 'peko'\n",
      " 'gc27c' 'gc19' 'gc21c' 'trekvast, flexibel' 'gc21e' 'gc23' 'gc20' 'n.v.t.'\n",
      " 'trekvast, niet flex.' 'niet trekvast, niet flex.' 'pe80' 'niet flex.'\n",
      " 'trekvast' 'gc12' 'pe' 'gc15' 'gc5' 'gc4' 'gc21d' 'gc17a' 'flexibel' 'pvc'\n",
      " 'gc24a' 'gc14' 'flex. element + doorvoer' 'anders' 'csd-plug' 'gc20a'\n",
      " 'gc17b' 'niet trekvast, flexibel' 'gc20c' 'gc7' 'gc13' 'gc27b'\n",
      " 'n.v.t. - has type 1 of as' 'mdpe' 'klant' 'gc25b' 'gc26' 'gc3' 'gc11'\n",
      " 'gc22' 'gc24b' 'cu' 'gc21b' 'n.v.t. - buitenkast' 'pvc/cpe' 'gc1'\n",
      " 'niet trekvast' 'gc20d' 'gc9' 'pe100' 'gc2' 'gc17c' 'gc10' 'gc6'\n",
      " 'pur-schuim' 'gc25a']\n"
     ]
    }
   ],
   "source": [
    "print(data['class'].unique())"
   ]
  },
  {
   "cell_type": "markdown",
   "metadata": {},
   "source": [
    "## Vervang ontbrekende waardes met -999 placeholder"
   ]
  },
  {
   "cell_type": "code",
   "execution_count": 12,
   "metadata": {
    "collapsed": false
   },
   "outputs": [
    {
     "data": {
      "text/plain": [
       "class                            False\n",
       "MATERIAAL_AANSLUITL_BINNEN       False\n",
       "MATERIAAL_AANSLUITL_BUITEN       False\n",
       "PLAATS                           False\n",
       "POSTCODE                         False\n",
       "DATUM_AANLEG_GEVELCONSTRUCTIE    False\n",
       "BOUWJAAR                         False\n",
       "x                                False\n",
       "y                                False\n",
       "dtype: bool"
      ]
     },
     "execution_count": 12,
     "metadata": {},
     "output_type": "execute_result"
    }
   ],
   "source": [
    "data = data.fillna(-999)\n",
    "pd.isnull(data).any()"
   ]
  },
  {
   "cell_type": "markdown",
   "metadata": {},
   "source": [
    "## Datum aanleg"
   ]
  },
  {
   "cell_type": "markdown",
   "metadata": {},
   "source": [
    "Vervang datum aanleg met enkel het jaartal"
   ]
  },
  {
   "cell_type": "code",
   "execution_count": 13,
   "metadata": {
    "collapsed": false
   },
   "outputs": [],
   "source": [
    "aanleg_datum = data['DATUM_AANLEG_GEVELCONSTRUCTIE'].astype(str)\n",
    "converted_date = []\n",
    "for date_time in aanleg_datum:\n",
    "    date = date_time.split(' ')[0]\n",
    "    units = date.split('-')\n",
    "    try:\n",
    "        year_found = False\n",
    "        for unit in units:\n",
    "            if len(unit) == 4: \n",
    "                year = unit\n",
    "                converted_date.append(year)\n",
    "                year_found = True\n",
    "        if year_found == False:\n",
    "            converted_date.append(-999)\n",
    "    except:\n",
    "        print(date_time)\n",
    "        print(units)\n",
    "        print(\"WENT WRONG\")\n",
    "        raise\n",
    "            \n",
    "\n",
    "\n",
    "data['DATUM_AANLEG_GEVELCONSTRUCTIE'] = converted_date"
   ]
  },
  {
   "cell_type": "markdown",
   "metadata": {},
   "source": [
    "## binarise features"
   ]
  },
  {
   "cell_type": "code",
   "execution_count": 14,
   "metadata": {
    "collapsed": false
   },
   "outputs": [
    {
     "data": {
      "text/plain": [
       "928213"
      ]
     },
     "execution_count": 14,
     "metadata": {},
     "output_type": "execute_result"
    }
   ],
   "source": [
    "from sklearn.preprocessing import MultiLabelBinarizer\n",
    "\n",
    "mlb = MultiLabelBinarizer()\n",
    "materiaal_binnen_trans = mlb.fit_transform([{str(val)} for val in data['MATERIAAL_AANSLUITL_BINNEN'].values])\n",
    "materiaal_buiten_trans = mlb.fit_transform([{str(val)} for val in data['MATERIAAL_AANSLUITL_BUITEN'].values])\n",
    "\n",
    "input_data = data.drop(['MATERIAAL_AANSLUITL_BINNEN', 'MATERIAAL_AANSLUITL_BUITEN', 'PLAATS', 'POSTCODE','class'], 1)\n",
    "input_data['DATUM_AANLEG_GEVELCONSTRUCTIE'] = pd.to_numeric(input_data['DATUM_AANLEG_GEVELCONSTRUCTIE'])\n",
    "len(input_data)"
   ]
  },
  {
   "cell_type": "code",
   "execution_count": 15,
   "metadata": {
    "collapsed": false
   },
   "outputs": [
    {
     "data": {
      "text/plain": [
       "DATUM_AANLEG_GEVELCONSTRUCTIE      int64\n",
       "BOUWJAAR                           int64\n",
       "x                                float64\n",
       "y                                float64\n",
       "dtype: object"
      ]
     },
     "execution_count": 15,
     "metadata": {},
     "output_type": "execute_result"
    }
   ],
   "source": [
    "input_data.dtypes"
   ]
  },
  {
   "cell_type": "markdown",
   "metadata": {},
   "source": [
    "Stack de nieuwe binary featuers bij de bestaande"
   ]
  },
  {
   "cell_type": "code",
   "execution_count": 16,
   "metadata": {
    "collapsed": false
   },
   "outputs": [
    {
     "data": {
      "text/plain": [
       "928213"
      ]
     },
     "execution_count": 16,
     "metadata": {},
     "output_type": "execute_result"
    }
   ],
   "source": [
    "input_data = np.hstack((input_data.values,materiaal_binnen_trans))\n",
    "input_data = np.hstack((input_data,materiaal_buiten_trans))\n",
    "len(input_data)"
   ]
  },
  {
   "cell_type": "markdown",
   "metadata": {},
   "source": [
    "Check de feature space"
   ]
  },
  {
   "cell_type": "code",
   "execution_count": 17,
   "metadata": {
    "collapsed": false
   },
   "outputs": [
    {
     "name": "stdout",
     "output_type": "stream",
     "text": [
      "75\n"
     ]
    }
   ],
   "source": [
    "print(input_data[0].size)"
   ]
  },
  {
   "cell_type": "markdown",
   "metadata": {},
   "source": [
    "# Create data sets"
   ]
  },
  {
   "cell_type": "code",
   "execution_count": 18,
   "metadata": {
    "collapsed": false
   },
   "outputs": [
    {
     "name": "stdout",
     "output_type": "stream",
     "text": [
      "928213\n",
      "928213\n"
     ]
    }
   ],
   "source": [
    "from sklearn.cross_validation import train_test_split\n",
    "\n",
    "output_data = data['class']\n",
    "output_data = output_data.as_matrix()\n",
    "\n",
    "print(len(input_data))\n",
    "print(len(output_data))\n",
    "\n",
    "X_train, X_test, y_train, y_test = train_test_split(input_data, output_data, train_size=0.75, test_size=0.25)"
   ]
  },
  {
   "cell_type": "code",
   "execution_count": 19,
   "metadata": {
    "collapsed": false
   },
   "outputs": [
    {
     "name": "stdout",
     "output_type": "stream",
     "text": [
      "<type 'numpy.ndarray'>\n"
     ]
    }
   ],
   "source": [
    "print(type(output_data))"
   ]
  },
  {
   "cell_type": "code",
   "execution_count": null,
   "metadata": {
    "collapsed": false
   },
   "outputs": [
    {
     "data": {
      "text/plain": [
       "'gc16'"
      ]
     },
     "execution_count": 20,
     "metadata": {},
     "output_type": "execute_result"
    }
   ],
   "source": [
    "output_data[267211]"
   ]
  },
  {
   "cell_type": "markdown",
   "metadata": {},
   "source": [
    "# Find ideal model"
   ]
  },
  {
   "cell_type": "code",
   "execution_count": null,
   "metadata": {
    "collapsed": false
   },
   "outputs": [
    {
     "name": "stderr",
     "output_type": "stream",
     "text": [
      "\r",
      "GP Progress:   0%|          | 0/600 [00:00<?, ?pipeline/s]"
     ]
    }
   ],
   "source": [
    "from tpot import TPOT\n",
    "\n",
    "tpot = TPOT(generations=5, verbosity=2)\n",
    "tpot.fit(X_train, y_train)"
   ]
  },
  {
   "cell_type": "markdown",
   "metadata": {},
   "source": [
    "# Score model"
   ]
  },
  {
   "cell_type": "code",
   "execution_count": null,
   "metadata": {
    "collapsed": true
   },
   "outputs": [],
   "source": [
    "print(tpot.score(X_test, y_test))"
   ]
  }
 ],
 "metadata": {
  "kernelspec": {
   "display_name": "Python 2",
   "language": "python",
   "name": "python2"
  },
  "language_info": {
   "codemirror_mode": {
    "name": "ipython",
    "version": 2
   },
   "file_extension": ".py",
   "mimetype": "text/x-python",
   "name": "python",
   "nbconvert_exporter": "python",
   "pygments_lexer": "ipython2",
   "version": "2.7.11"
  }
 },
 "nbformat": 4,
 "nbformat_minor": 0
}
